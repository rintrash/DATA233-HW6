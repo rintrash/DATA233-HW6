{
 "cells": [
  {
   "cell_type": "code",
   "execution_count": 20,
   "id": "953bda6b",
   "metadata": {},
   "outputs": [],
   "source": [
    "# name 1:Travis McDaneld\n",
    "# name 2:Anyah Arboine\n",
    "# name 3:Angela You\n",
    "\n",
    "import numpy as np\n",
    "from sklearn.linear_model import LinearRegression\n",
    "from sklearn.feature_extraction.text import CountVectorizer\n",
    "import pandas as pd\n",
    "\n",
    "class LRsentenceQuality():\n",
    "    def __init__(self):\n",
    "        self.reg = LinearRegression()\n",
    "        self.vectorizer = CountVectorizer()\n",
    "        pass\n",
    "    def trainLR(self):\n",
    "        # traing a LR model on the training dataset, your group should find a training dataset with three different qualities\n",
    "        X, y = self.readCSV(\"kaggle_data.csv\")\n",
    "        self.reg.fit(X, y)\n",
    "        self.reg.score(X, y)   \n",
    "\n",
    "    def Quality_LR(self, sentence):\n",
    "        # please implement this function to classify the sentence into three different classes: high, low, and medium quality\n",
    "        # Input: sentence\n",
    "        # output: -1 means low quality, 0 means medium quality, 1 means high quality\n",
    "        # notes: you can reuse the code from the class about LR, and you can add more functions in this class as needed\n",
    "        self.trainLR()\n",
    "        arr = [sentence]\n",
    "        sentence_count = self.vectorizer.transform(arr).toarray()\n",
    "        prediction = self.reg.predict(sentence_count)[0]\n",
    "        if prediction > 0:\n",
    "            return \"1\"\n",
    "        elif prediction > -350000:\n",
    "            return \"0\"\n",
    "        else:\n",
    "            return \"-1\"\n",
    "    \n",
    "    def readCSV(self, csv):\n",
    "            df = pd.read_csv(csv)\n",
    "            texts = df['external_text'].values  #numpy representation of texts\n",
    "            \n",
    "            targets = df['target'].values       #numpy representation of targets\n",
    "            target_values = []                  #the good, ok, bad representation of targets\n",
    "            text_values = []\n",
    "\n",
    "            for i in range(len(texts)):\n",
    "                if type(texts[i]) != str:       #if not a string, skip it\n",
    "                    continue\n",
    "\n",
    "                text_values.append(texts[i])\n",
    "                if targets[i] > -0.4:\n",
    "                    target_values.append(1)\n",
    "                elif targets[i] > -1.5:\n",
    "                    target_values.append(0)\n",
    "                else:\n",
    "                    target_values.append(-1)\n",
    "            vectorized_text = self.vectorizer.fit_transform(text_values).toarray()\n",
    "            #print(vectorized_text)\n",
    "            return vectorized_text, target_values    \n",
    "\n"
   ]
  },
  {
   "cell_type": "code",
   "execution_count": 21,
   "id": "bc17f9b0",
   "metadata": {},
   "outputs": [
    {
     "name": "stdout",
     "output_type": "stream",
     "text": [
      "Sentence 1 result: 1\n",
      "Sentence 2 result: -1\n",
      "Sentence 3 result: 0\n",
      "Sentence 4 result: -1\n"
     ]
    }
   ],
   "source": [
    "    \n",
    "# this is for testing only\n",
    "obj = LRsentenceQuality()\n",
    "s = \"DATA 233 is a wonderful class! And I also love playing with dogs, have I ever talked about quantum physics with you?\"\n",
    "s2 = \"dog.\"\n",
    "s3 = \"My mommy gave me milk and I LOoooooove milk!\"\n",
    "s4 = \"asoidjoijgoenwoginoinewgiongi\"\n",
    "\n",
    "\n",
    "print(\"Sentence 1 result: \" + str(obj.Quality_LR(s)))\n",
    "print(\"Sentence 2 result: \" + str(obj.Quality_LR(s2)))\n",
    "print(\"Sentence 3 result: \" + str(obj.Quality_LR(s3)))\n",
    "print(\"Sentence 4 result: \" + str(obj.Quality_LR(s4)))\n"
   ]
  }
 ],
 "metadata": {
  "kernelspec": {
   "display_name": "Python 3",
   "language": "python",
   "name": "python3"
  },
  "language_info": {
   "codemirror_mode": {
    "name": "ipython",
    "version": 3
   },
   "file_extension": ".py",
   "mimetype": "text/x-python",
   "name": "python",
   "nbconvert_exporter": "python",
   "pygments_lexer": "ipython3",
   "version": "3.8.8"
  }
 },
 "nbformat": 4,
 "nbformat_minor": 5
}
